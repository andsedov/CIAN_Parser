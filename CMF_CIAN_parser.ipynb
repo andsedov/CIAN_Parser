{
 "cells": [
  {
   "cell_type": "markdown",
   "metadata": {},
   "source": [
    "# CIAN.ru"
   ]
  },
  {
   "cell_type": "code",
   "execution_count": 1,
   "metadata": {
    "collapsed": true
   },
   "outputs": [],
   "source": [
    "import requests\n",
    "import re\n",
    "from bs4 import BeautifulSoup\n",
    "import pandas as pd\n",
    "import time"
   ]
  },
  {
   "cell_type": "code",
   "execution_count": 3,
   "metadata": {
    "collapsed": true
   },
   "outputs": [],
   "source": [
    "def html_stripper(text):\n",
    "    return re.sub('<[^<]+?>', '', str(text))"
   ]
  },
  {
   "cell_type": "code",
   "execution_count": 4,
   "metadata": {
    "collapsed": true
   },
   "outputs": [],
   "source": [
    "page = 1"
   ]
  },
  {
   "cell_type": "markdown",
   "metadata": {},
   "source": [
    "### Для ЦАО находим главную ссылку и в ней находим **&p=1&**, это и есть переход по страницам"
   ]
  },
  {
   "cell_type": "code",
   "execution_count": 5,
   "metadata": {
    "collapsed": false
   },
   "outputs": [],
   "source": [
    "district = 'http://www.cian.ru/cat.php?deal_type=sale&district%5B0%5D=13&district%5B1%5D=14&district%5B2%5D=15&district%5B3%5D=16&district%5B4%5D=17&district%5B5%5D=18&district%5B6%5D=19&district%5B7%5D=20&district%5B8%5D=21&district%5B9%5D=22&engine_version=2&offer_type=flat&p={}&room1=1&room2=1&room3=1&room4=1&room5=1&room6=1'"
   ]
  },
  {
   "cell_type": "code",
   "execution_count": 6,
   "metadata": {
    "collapsed": false
   },
   "outputs": [
    {
     "data": {
      "text/plain": [
       "'http://www.cian.ru/cat.php?deal_type=sale&district%5B0%5D=13&district%5B1%5D=14&district%5B2%5D=15&district%5B3%5D=16&district%5B4%5D=17&district%5B5%5D=18&district%5B6%5D=19&district%5B7%5D=20&district%5B8%5D=21&district%5B9%5D=22&engine_version=2&offer_type=flat&p={}&room1=1&room2=1&room3=1&room4=1&room5=1&room6=1'"
      ]
     },
     "execution_count": 6,
     "metadata": {},
     "output_type": "execute_result"
    }
   ],
   "source": [
    "district"
   ]
  },
  {
   "cell_type": "code",
   "execution_count": 182,
   "metadata": {
    "collapsed": false
   },
   "outputs": [
    {
     "data": {
      "text/plain": [
       "24390"
      ]
     },
     "execution_count": 182,
     "metadata": {},
     "output_type": "execute_result"
    }
   ],
   "source": [
    "page_url =  district.format(page)\n",
    "\n",
    "search_page = requests.get(page_url)\n",
    "search_page = search_page.content\n",
    "search_page = BeautifulSoup(search_page, 'lxml')\n",
    "\n",
    "\n",
    "#число квартир в округе, просто ради интереса\n",
    "#хотелось собрать все, но слишком долго\n",
    "\n",
    "flat_num = str(search_page.find('div', attrs={'class':'serp-above__count'}).contents[1])\n",
    "flat_num = int(re.findall('\\d{1,}', flat_num)[0])\n",
    "flat_num"
   ]
  },
  {
   "cell_type": "markdown",
   "metadata": {},
   "source": [
    "### Гуляем по страницам и качаем с них все ссылки на наши квартиры"
   ]
  },
  {
   "cell_type": "code",
   "execution_count": 184,
   "metadata": {
    "collapsed": false
   },
   "outputs": [],
   "source": [
    "links = []\n",
    "#page_num = int(flat_num/31)\n",
    "for page in range(1, 30):\n",
    "    page_url =  district.format(page)\n",
    "\n",
    "    search_page = requests.get(page_url)\n",
    "    search_page = search_page.content\n",
    "    search_page = BeautifulSoup(search_page, 'lxml')\n",
    "\n",
    "    flat_urls = search_page.findAll('div', attrs = {'ng-class':\"{'serp-item_removed': offer.remove.state, 'serp-item_popup-opened': isPopupOpen}\"})\n",
    "    flat_urls = re.split('http://www.cian.ru/sale/flat/|/\" ng-class=\"', str(flat_urls))\n",
    "\n",
    "    for link in flat_urls:\n",
    "        if link.isdigit():\n",
    "            links.append(link)"
   ]
  },
  {
   "cell_type": "code",
   "execution_count": 535,
   "metadata": {
    "collapsed": false
   },
   "outputs": [],
   "source": [
    "#links"
   ]
  },
  {
   "cell_type": "code",
   "execution_count": 186,
   "metadata": {
    "collapsed": false
   },
   "outputs": [
    {
     "data": {
      "text/plain": [
       "812"
      ]
     },
     "execution_count": 186,
     "metadata": {},
     "output_type": "execute_result"
    }
   ],
   "source": [
    "len(links)"
   ]
  },
  {
   "cell_type": "markdown",
   "metadata": {},
   "source": [
    "Итого вытащили 812 квартирок по ЦАО"
   ]
  },
  {
   "cell_type": "markdown",
   "metadata": {},
   "source": [
    "### Попробуем перейти на первую"
   ]
  },
  {
   "cell_type": "code",
   "execution_count": 354,
   "metadata": {
    "collapsed": false
   },
   "outputs": [],
   "source": [
    "flat_url = 'http://www.cian.ru/sale/flat/' + str(links[1]) + '/'\n",
    "#flat_url = 'http://www.cian.ru/sale/flat/150531912/' \n",
    "flat_page = requests.get(flat_url)\n",
    "flat_page = flat_page.content\n",
    "flat_page = BeautifulSoup(flat_page, 'lxml')"
   ]
  },
  {
   "cell_type": "code",
   "execution_count": 355,
   "metadata": {
    "collapsed": false
   },
   "outputs": [],
   "source": [
    "flatStats = {'District':0}"
   ]
  },
  {
   "cell_type": "code",
   "execution_count": 356,
   "metadata": {
    "collapsed": false
   },
   "outputs": [
    {
     "name": "stdout",
     "output_type": "stream",
     "text": [
      "http://www.cian.ru/sale/flat/150122016/\n"
     ]
    }
   ],
   "source": [
    "print(flat_url)"
   ]
  },
  {
   "cell_type": "markdown",
   "metadata": {},
   "source": [
    "# Цена"
   ]
  },
  {
   "cell_type": "code",
   "execution_count": 357,
   "metadata": {
    "collapsed": false
   },
   "outputs": [],
   "source": [
    "price = flat_page.find('div', attrs={'class':'object_descr_price'})\n",
    "price = re.split('<div>|за м<sup>2</sup>|\\n|руб|\\W', str(price))"
   ]
  },
  {
   "cell_type": "code",
   "execution_count": 358,
   "metadata": {
    "collapsed": false
   },
   "outputs": [
    {
     "name": "stdout",
     "output_type": "stream",
     "text": [
      "['', 'div', 'class', '', 'object_descr_price', '', '', '', '', '', '', '', '', '', '', '', '', '', '', '', '', '', '', '', '', '', '', '', '', '', '', '', '', '', '', '', '', '', '1', '200', '000', '', '', '', '', '', '', '', '', '', '', '', '', '', '', '', '', '', '', '', '', '', '', '', '', '', '', '', '', '', '', '', '', '', '', '', '', '', '', '', '', '', '', '', '', 'span', 'style', '', 'color', '', '', '808080', '', '', '', '', '76', '483', '680', '', '', '', 'span', '', '', '', 'div', '']\n"
     ]
    }
   ],
   "source": [
    "print(price)"
   ]
  },
  {
   "cell_type": "code",
   "execution_count": 359,
   "metadata": {
    "collapsed": false
   },
   "outputs": [
    {
     "data": {
      "text/plain": [
       "['76', '483', '680']"
      ]
     },
     "execution_count": 359,
     "metadata": {},
     "output_type": "execute_result"
    }
   ],
   "source": [
    "[i for i in price if i.isdigit()][-3:]"
   ]
  },
  {
   "cell_type": "code",
   "execution_count": 360,
   "metadata": {
    "collapsed": false
   },
   "outputs": [
    {
     "data": {
      "text/plain": [
       "'76483680'"
      ]
     },
     "execution_count": 360,
     "metadata": {},
     "output_type": "execute_result"
    }
   ],
   "source": [
    "\"\".join([i for i in price if i.isdigit()][-3:])"
   ]
  },
  {
   "cell_type": "code",
   "execution_count": 361,
   "metadata": {
    "collapsed": true
   },
   "outputs": [],
   "source": [
    "price = \"\".join([i for i in price if i.isdigit()][-3:])"
   ]
  },
  {
   "cell_type": "code",
   "execution_count": 362,
   "metadata": {
    "collapsed": true
   },
   "outputs": [],
   "source": [
    "def getPrice(flat_page):\n",
    "    price = flat_page.find('div', attrs={'class':'object_descr_price'})\n",
    "    price = re.split('<div>|руб|\\W', str(price))\n",
    "    price = \"\".join([i for i in price if i.isdigit()][-3:])\n",
    "    return int(price)"
   ]
  },
  {
   "cell_type": "code",
   "execution_count": 363,
   "metadata": {
    "collapsed": false
   },
   "outputs": [
    {
     "data": {
      "text/plain": [
       "76483680"
      ]
     },
     "execution_count": 363,
     "metadata": {},
     "output_type": "execute_result"
    }
   ],
   "source": [
    "getPrice(flat_page)"
   ]
  },
  {
   "cell_type": "code",
   "execution_count": 364,
   "metadata": {
    "collapsed": true
   },
   "outputs": [],
   "source": [
    "flatStats['Price'] = getPrice(flat_page)"
   ]
  },
  {
   "cell_type": "markdown",
   "metadata": {},
   "source": [
    "# Координаты"
   ]
  },
  {
   "cell_type": "code",
   "execution_count": 365,
   "metadata": {
    "collapsed": false
   },
   "outputs": [
    {
     "data": {
      "text/plain": [
       "<a href=\"http://map.cian.ru/?deal_type=2&amp;flats=yes&amp;center=55.721731%2C37.572899&amp;room0=1&amp;room1=1&amp;room2=1&amp;room3=1\" rel=\"nofollow\" target=\"_blank\"><i></i>Посмотреть предложения рядом</a>"
      ]
     },
     "execution_count": 365,
     "metadata": {},
     "output_type": "execute_result"
    }
   ],
   "source": [
    "flat_page.find('div', attrs={'class':'map_info_button_extend'}).contents[1]"
   ]
  },
  {
   "cell_type": "code",
   "execution_count": 366,
   "metadata": {
    "collapsed": false
   },
   "outputs": [],
   "source": [
    "coords = flat_page.find('div', attrs={'class':'map_info_button_extend'}).contents[1]\n",
    "coords = re.split('&amp|center=|%2C', str(coords))\n",
    "coords_list = []\n",
    "for item in coords:\n",
    "    if item[0].isdigit():\n",
    "        coords_list.append(item)\n",
    "lat = float(coords_list[0])\n",
    "lon = float(coords_list[1])"
   ]
  },
  {
   "cell_type": "code",
   "execution_count": 367,
   "metadata": {
    "collapsed": false
   },
   "outputs": [
    {
     "data": {
      "text/plain": [
       "(55.721731, 37.572899)"
      ]
     },
     "execution_count": 367,
     "metadata": {},
     "output_type": "execute_result"
    }
   ],
   "source": [
    "lat, lon"
   ]
  },
  {
   "cell_type": "code",
   "execution_count": 412,
   "metadata": {
    "collapsed": true
   },
   "outputs": [],
   "source": [
    "def getCoords(flat_page):\n",
    "    coords = flat_page.find('div', attrs={'class':'map_info_button_extend'}).contents[1]\n",
    "    coords = re.split('&amp|center=|%2C', str(coords))\n",
    "    coords_list = []\n",
    "    for item in coords:\n",
    "        if item[0].isdigit():\n",
    "            coords_list.append(item)\n",
    "    lat = float(coords_list[0])\n",
    "    lon = float(coords_list[1])\n",
    "    return lon, lat"
   ]
  },
  {
   "cell_type": "code",
   "execution_count": 413,
   "metadata": {
    "collapsed": false
   },
   "outputs": [
    {
     "data": {
      "text/plain": [
       "(37.572899, 55.721731)"
      ]
     },
     "execution_count": 413,
     "metadata": {},
     "output_type": "execute_result"
    }
   ],
   "source": [
    "getCoords(flat_page)"
   ]
  },
  {
   "cell_type": "code",
   "execution_count": 370,
   "metadata": {
    "collapsed": true
   },
   "outputs": [],
   "source": [
    "flatStats['lat'], flatStats['lon'] = getCoords(flat_page)"
   ]
  },
  {
   "cell_type": "markdown",
   "metadata": {},
   "source": [
    "# Число комнат"
   ]
  },
  {
   "cell_type": "code",
   "execution_count": 371,
   "metadata": {
    "collapsed": true
   },
   "outputs": [],
   "source": [
    "rooms = flat_page.find('div', attrs={'class':'object_descr_title'})"
   ]
  },
  {
   "cell_type": "code",
   "execution_count": 372,
   "metadata": {
    "collapsed": false
   },
   "outputs": [
    {
     "data": {
      "text/plain": [
       "<div class=\"object_descr_title\" itemprop=\"name\">\n",
       "                \n",
       "    \n",
       "        3-комн. кв. \n",
       "    \n",
       "\n",
       "                \n",
       "                    \n",
       "                        в <a href=\"/zhiloy-kompleks-clerkenwell-house-moskva-5341/\" target=\"_blank\">ЖК «Clerkenwell House»</a>\n",
       "</div>"
      ]
     },
     "execution_count": 372,
     "metadata": {},
     "output_type": "execute_result"
    }
   ],
   "source": [
    "rooms"
   ]
  },
  {
   "cell_type": "code",
   "execution_count": 373,
   "metadata": {
    "collapsed": false
   },
   "outputs": [],
   "source": [
    "rooms = html_stripper(rooms)"
   ]
  },
  {
   "cell_type": "code",
   "execution_count": 374,
   "metadata": {
    "collapsed": false
   },
   "outputs": [
    {
     "data": {
      "text/plain": [
       "'\\n                \\n    \\n        3-комн. кв.\\xa0\\n    \\n\\n                \\n                    \\n                        в\\xa0ЖК «Clerkenwell House»\\n'"
      ]
     },
     "execution_count": 374,
     "metadata": {},
     "output_type": "execute_result"
    }
   ],
   "source": [
    "rooms"
   ]
  },
  {
   "cell_type": "code",
   "execution_count": 375,
   "metadata": {
    "collapsed": false
   },
   "outputs": [],
   "source": [
    "room_number = ''\n",
    "for i in re.split('-|\\n', rooms):\n",
    "    if 'комн' in i:\n",
    "        break\n",
    "    else:\n",
    "        room_number += i\n",
    "room_number = \"\".join(room_number.split())"
   ]
  },
  {
   "cell_type": "code",
   "execution_count": 376,
   "metadata": {
    "collapsed": false
   },
   "outputs": [
    {
     "data": {
      "text/plain": [
       "'3'"
      ]
     },
     "execution_count": 376,
     "metadata": {},
     "output_type": "execute_result"
    }
   ],
   "source": [
    "room_number"
   ]
  },
  {
   "cell_type": "code",
   "execution_count": 377,
   "metadata": {
    "collapsed": true
   },
   "outputs": [],
   "source": [
    "def getRoom(flat_page):\n",
    "    rooms = flat_page.find('div', attrs={'class':'object_descr_title'})\n",
    "    rooms = html_stripper(rooms)\n",
    "    room_number = ''\n",
    "    for i in re.split('-|\\n', rooms):\n",
    "        if 'комн' in i:\n",
    "            break\n",
    "        else:\n",
    "            room_number += i\n",
    "    room_number = \"\".join(room_number.split())\n",
    "    return room_number"
   ]
  },
  {
   "cell_type": "code",
   "execution_count": 378,
   "metadata": {
    "collapsed": false
   },
   "outputs": [
    {
     "data": {
      "text/plain": [
       "'3'"
      ]
     },
     "execution_count": 378,
     "metadata": {},
     "output_type": "execute_result"
    }
   ],
   "source": [
    "getRoom(flat_page)"
   ]
  },
  {
   "cell_type": "code",
   "execution_count": 379,
   "metadata": {
    "collapsed": true
   },
   "outputs": [],
   "source": [
    "flatStats['rooms'] = getRoom(flat_page)"
   ]
  },
  {
   "cell_type": "markdown",
   "metadata": {},
   "source": [
    "# Таблица"
   ]
  },
  {
   "cell_type": "code",
   "execution_count": 380,
   "metadata": {
    "collapsed": true
   },
   "outputs": [],
   "source": [
    "table = flat_page.find('table', attrs = {'class':'object_descr_props'})"
   ]
  },
  {
   "cell_type": "code",
   "execution_count": 381,
   "metadata": {
    "collapsed": false
   },
   "outputs": [
    {
     "data": {
      "text/plain": [
       "<table class=\"object_descr_props flat sale\" style=\"float:left\">\n",
       "<tr>\n",
       "<th style=\"padding-top:5px;\"> # Общая информация:</th>\n",
       "</tr>\n",
       "<tr>\n",
       "<th>Статус помещения:</th>\n",
       "<td>апартаменты</td>\n",
       "</tr>\n",
       "<tr>\n",
       "<th>Этаж:</th>\n",
       "<td>\n",
       "                3 / 5\n",
       "                \n",
       "            </td>\n",
       "</tr>\n",
       "<tr>\n",
       "<th>Тип дома:</th>\n",
       "<td>\n",
       "            вторичка\n",
       "            \n",
       "        </td>\n",
       "</tr>\n",
       "<tr>\n",
       "<th>Тип продажи:</th>\n",
       "<td>свободная</td>\n",
       "</tr>\n",
       "<tr>\n",
       "<th>Общая площадь:</th>\n",
       "<td>\n",
       "<i class=\"object_descr_details_color\"></i>95 м<sup>2</sup>\n",
       "</td>\n",
       "</tr>\n",
       "<tr>\n",
       "<th>Площадь комнат:</th>\n",
       "<td>\n",
       "<i class=\"object_descr_details_color\"></i><!--\n",
       "-->0 м<sup>2</sup>\n",
       "</td>\n",
       "</tr>\n",
       "<tr>\n",
       "<th>Жилая площадь:</th>\n",
       "<td>\n",
       "<i class=\"object_descr_details_color\" style=\"background-color:#90C090\"></i>65 м<sup>2</sup>\n",
       "</td>\n",
       "</tr>\n",
       "<tr>\n",
       "<th>Площадь кухни:</th>\n",
       "<td>\n",
       "<i class=\"object_descr_details_color\" style=\"background-color:#C09090\"></i>–\n",
       "        </td>\n",
       "</tr>\n",
       "<tr>\n",
       "<th>Совмещенных санузлов:</th>\n",
       "<td><i class=\"object_descr_details_color\" style=\"background-color:#90C0C0\"></i>2\n",
       "            </td>\n",
       "</tr>\n",
       "<tr>\n",
       "<th>Балкон:</th>\n",
       "<td><i class=\"object_descr_details_color\" style=\"background-color:#C0C0C0\"></i>–\n",
       "        </td>\n",
       "</tr>\n",
       "<tr>\n",
       "<th>Лифт:</th>\n",
       "<td>1 пасс.</td>\n",
       "</tr>\n",
       "<tr>\n",
       "<th>Парковка:</th>\n",
       "<td>подземная</td>\n",
       "</tr>\n",
       "<tr>\n",
       "<th>Телефон:</th>\n",
       "<td>да</td>\n",
       "</tr>\n",
       "<tr>\n",
       "<th>Вид из окна:</th>\n",
       "<td>улица</td>\n",
       "</tr>\n",
       "<tr>\n",
       "<th>Ремонт:</th>\n",
       "<td>дизайнерский</td>\n",
       "</tr>\n",
       "</table>"
      ]
     },
     "execution_count": 381,
     "metadata": {},
     "output_type": "execute_result"
    }
   ],
   "source": [
    "table"
   ]
  },
  {
   "cell_type": "code",
   "execution_count": 382,
   "metadata": {
    "collapsed": false,
    "scrolled": false
   },
   "outputs": [
    {
     "name": "stdout",
     "output_type": "stream",
     "text": [
      "\n",
      "\n",
      " # Общая информация:\n",
      "\n",
      "\n",
      "Статус помещения:\n",
      "апартаменты\n",
      "\n",
      "\n",
      "Этаж:\n",
      "\n",
      "                3 / 5\n",
      "                \n",
      "            \n",
      "\n",
      "\n",
      "Тип дома:\n",
      "\n",
      "            вторичка\n",
      "            \n",
      "        \n",
      "\n",
      "\n",
      "Тип продажи:\n",
      "свободная\n",
      "\n",
      "\n",
      "Общая площадь:\n",
      "\n",
      "95 м2\n",
      "\n",
      "\n",
      "\n",
      "Площадь комнат:\n",
      "\n",
      "0 м2\n",
      "\n",
      "\n",
      "\n",
      "Жилая площадь:\n",
      "\n",
      "65 м2\n",
      "\n",
      "\n",
      "\n",
      "Площадь кухни:\n",
      "\n",
      "–\n",
      "        \n",
      "\n",
      "\n",
      "Совмещенных санузлов:\n",
      "2\n",
      "            \n",
      "\n",
      "\n",
      "Балкон:\n",
      "–\n",
      "        \n",
      "\n",
      "\n",
      "Лифт:\n",
      "1 пасс.\n",
      "\n",
      "\n",
      "Парковка:\n",
      "подземная\n",
      "\n",
      "\n",
      "Телефон:\n",
      "да\n",
      "\n",
      "\n",
      "Вид из окна:\n",
      "улица\n",
      "\n",
      "\n",
      "Ремонт:\n",
      "дизайнерский\n",
      "\n",
      "\n"
     ]
    }
   ],
   "source": [
    "print(html_stripper(table))"
   ]
  },
  {
   "cell_type": "code",
   "execution_count": 383,
   "metadata": {
    "collapsed": true
   },
   "outputs": [],
   "source": [
    "table = html_stripper(table)"
   ]
  },
  {
   "cell_type": "code",
   "execution_count": 384,
   "metadata": {
    "collapsed": false
   },
   "outputs": [
    {
     "name": "stdout",
     "output_type": "stream",
     "text": [
      ":\n",
      "\n",
      "                3 \n"
     ]
    }
   ],
   "source": [
    "print(re.split('Этаж|/', table)[1])"
   ]
  },
  {
   "cell_type": "code",
   "execution_count": 385,
   "metadata": {
    "collapsed": false
   },
   "outputs": [
    {
     "data": {
      "text/plain": [
       "'http://www.cian.ru/sale/flat/150122016/'"
      ]
     },
     "execution_count": 385,
     "metadata": {},
     "output_type": "execute_result"
    }
   ],
   "source": [
    "flat_url"
   ]
  },
  {
   "cell_type": "code",
   "execution_count": 386,
   "metadata": {
    "collapsed": false
   },
   "outputs": [
    {
     "data": {
      "text/plain": [
       "{'District': 0,\n",
       " 'Price': 76483680,\n",
       " 'lat': 55.721731,\n",
       " 'lon': 37.572899,\n",
       " 'rooms': '3'}"
      ]
     },
     "execution_count": 386,
     "metadata": {},
     "output_type": "execute_result"
    }
   ],
   "source": [
    "flatStats"
   ]
  },
  {
   "cell_type": "markdown",
   "metadata": {},
   "source": [
    "# Этаж\n",
    "Общая идея заключается в том, чтобы с помощью регулярных выражений выделить из таблицы численное значение, заключенное между текстом."
   ]
  },
  {
   "cell_type": "code",
   "execution_count": 387,
   "metadata": {
    "collapsed": false
   },
   "outputs": [
    {
     "name": "stdout",
     "output_type": "stream",
     "text": [
      "3\n"
     ]
    }
   ],
   "source": [
    "floor = re.split('Этаж|/', table)[1]\n",
    "floor = re.findall('\\d{1,}', floor)[0]\n",
    "floor = int(floor)\n",
    "print(floor)"
   ]
  },
  {
   "cell_type": "code",
   "execution_count": 388,
   "metadata": {
    "collapsed": false
   },
   "outputs": [
    {
     "name": "stdout",
     "output_type": "stream",
     "text": [
      "3\n"
     ]
    }
   ],
   "source": [
    "def getFloor(table):\n",
    "    floor = re.split('Этаж|/', table)[1]\n",
    "    floor = re.findall('\\d{1,}', floor)[0]\n",
    "    return int(floor)\n",
    "\n",
    "print(getFloor(table))"
   ]
  },
  {
   "cell_type": "code",
   "execution_count": 389,
   "metadata": {
    "collapsed": false
   },
   "outputs": [
    {
     "data": {
      "text/plain": [
       "'\\n\\n # Общая информация:\\n\\n\\nСтатус помещения:\\nапартаменты\\n\\n\\nЭтаж:\\n\\n                3\\xa0/\\xa05\\n                \\n            \\n\\n\\nТип дома:\\n\\n            вторичка\\n            \\n        \\n\\n\\nТип продажи:\\nсвободная\\n\\n\\nОбщая площадь:\\n\\n95\\xa0м2\\n\\n\\n\\nПлощадь комнат:\\n\\n0\\xa0м2\\n\\n\\n\\nЖилая площадь:\\n\\n65\\xa0м2\\n\\n\\n\\nПлощадь кухни:\\n\\n–\\n        \\n\\n\\nСовмещенных санузлов:\\n2\\n            \\n\\n\\nБалкон:\\n–\\n        \\n\\n\\nЛифт:\\n1 пасс.\\n\\n\\nПарковка:\\nподземная\\n\\n\\nТелефон:\\nда\\n\\n\\nВид из окна:\\nулица\\n\\n\\nРемонт:\\nдизайнерский\\n\\n'"
      ]
     },
     "execution_count": 389,
     "metadata": {},
     "output_type": "execute_result"
    }
   ],
   "source": [
    "table"
   ]
  },
  {
   "cell_type": "markdown",
   "metadata": {},
   "source": [
    "# Общая площадь"
   ]
  },
  {
   "cell_type": "code",
   "execution_count": 390,
   "metadata": {
    "collapsed": false,
    "scrolled": true
   },
   "outputs": [
    {
     "name": "stdout",
     "output_type": "stream",
     "text": [
      "95.0\n"
     ]
    }
   ],
   "source": [
    "sq = re.split('Общая площадь|м2', table)[1]\n",
    "sq = re.findall('\\d{1,}', sq)[0]\n",
    "sq = re.sub(',','.', sq)\n",
    "sq = float(sq)\n",
    "print(sq)"
   ]
  },
  {
   "cell_type": "code",
   "execution_count": 391,
   "metadata": {
    "collapsed": false
   },
   "outputs": [
    {
     "name": "stdout",
     "output_type": "stream",
     "text": [
      "95.0\n"
     ]
    }
   ],
   "source": [
    "def getTotSp(table):\n",
    "    try:\n",
    "        sq = re.split('Общая площадь|Площадь комнат', table)[1]\n",
    "        sq = re.findall('\\d{1,}', sq)[0]\n",
    "        sq = re.sub(',','.', sq)\n",
    "    except:\n",
    "        sq = 0\n",
    "    return float(sq)\n",
    "\n",
    "print(getTotSp(table))"
   ]
  },
  {
   "cell_type": "markdown",
   "metadata": {},
   "source": [
    "# Жилая площадь"
   ]
  },
  {
   "cell_type": "code",
   "execution_count": 392,
   "metadata": {
    "collapsed": false
   },
   "outputs": [
    {
     "name": "stdout",
     "output_type": "stream",
     "text": [
      "65.0\n"
     ]
    }
   ],
   "source": [
    "def getLivSp(table):\n",
    "    try:\n",
    "        liv = re.split('Жилая площадь|Площадь кухни', table)[1]\n",
    "        liv = re.findall('\\d{1,}', liv)[0]\n",
    "        liv = re.sub(',','.', liv)\n",
    "    except:\n",
    "        liv = 0\n",
    "    return float(liv)\n",
    "\n",
    "print(getLivSp(table))"
   ]
  },
  {
   "cell_type": "markdown",
   "metadata": {},
   "source": [
    "# Площадь кухни"
   ]
  },
  {
   "cell_type": "code",
   "execution_count": 446,
   "metadata": {
    "collapsed": false
   },
   "outputs": [
    {
     "name": "stdout",
     "output_type": "stream",
     "text": [
      "1.0\n"
     ]
    }
   ],
   "source": [
    "def getKitSp(table):\n",
    "    try:\n",
    "        kit = re.split('Площадь кухни|Раздельных санузлов', table)[1]\n",
    "        kit = re.findall('\\d{1,}', kit)[0]\n",
    "        kit = re.sub(',','.', kit)\n",
    "    except:\n",
    "        kit = 0\n",
    "    return float(kit)\n",
    "\n",
    "print(getKitSp(table))"
   ]
  },
  {
   "cell_type": "markdown",
   "metadata": {},
   "source": [
    "# Расстояние до метро\n",
    "\n",
    "Функция возвращает расстояние до метро в минутах и 1, если пешком, и 0, если на транспорте."
   ]
  },
  {
   "cell_type": "code",
   "execution_count": 447,
   "metadata": {
    "collapsed": false
   },
   "outputs": [
    {
     "name": "stdout",
     "output_type": "stream",
     "text": [
      "6 1\n"
     ]
    }
   ],
   "source": [
    "metrdist = str(flat_page.find('div', attrs={'class':'object_descr_metro'}))\n",
    "metrdist = re.split('<span class=\"object_item_metro_comment\">|</span>', metrdist)[2]\n",
    "dist = int(re.findall('\\d{1,}', metrdist)[0])\n",
    "if re.findall('пешком', metrdist)[0] != None:  \n",
    "    walk = 1\n",
    "else:\n",
    "    walk = 0\n",
    "print(dist, walk)\n"
   ]
  },
  {
   "cell_type": "code",
   "execution_count": 448,
   "metadata": {
    "collapsed": false
   },
   "outputs": [
    {
     "name": "stdout",
     "output_type": "stream",
     "text": [
      "(6, 1)\n"
     ]
    }
   ],
   "source": [
    "def MetroDist(flat_page):\n",
    "    try:\n",
    "        metrdist = str(flat_page.find('div', attrs={'class':'object_descr_metro'}))\n",
    "        metrdist = re.split('<span class=\"object_item_metro_comment\">|</span>', metrdist)[2]\n",
    "        dist = int(re.findall('\\d{1,}', metrdist)[0])\n",
    "        if re.findall('пешком', metrdist)[0] != None:  \n",
    "            walk = 1\n",
    "        else:\n",
    "            walk = 0\n",
    "    except:\n",
    "        dist = 0\n",
    "        walk = 0\n",
    "    return int(dist), int(walk)\n",
    "\n",
    "print(MetroDist(flat_page))\n",
    "    "
   ]
  },
  {
   "cell_type": "markdown",
   "metadata": {},
   "source": [
    "# Телефон"
   ]
  },
  {
   "cell_type": "code",
   "execution_count": 449,
   "metadata": {
    "collapsed": false
   },
   "outputs": [],
   "source": [
    "try:\n",
    "        telef = re.split('Телефон|Вид из окна', table)[1]\n",
    "        if re.findall('да', telef)[0] != None:  \n",
    "            tel = 1\n",
    "except:\n",
    "        tel = 0\n"
   ]
  },
  {
   "cell_type": "code",
   "execution_count": 450,
   "metadata": {
    "collapsed": false
   },
   "outputs": [
    {
     "name": "stdout",
     "output_type": "stream",
     "text": [
      "1\n"
     ]
    }
   ],
   "source": [
    "def GetPhone(table):\n",
    "    try:\n",
    "        telef = re.split('Телефон|Вид из окна', table)[1]\n",
    "        if re.findall('да', telef)[0] != None:  \n",
    "            tel = 1\n",
    "    except:\n",
    "        tel = 0\n",
    "    return int(tel)\n",
    "\n",
    "print(GetPhone(table))\n",
    "    "
   ]
  },
  {
   "cell_type": "markdown",
   "metadata": {},
   "source": [
    "# Балкон"
   ]
  },
  {
   "cell_type": "code",
   "execution_count": 451,
   "metadata": {
    "collapsed": false
   },
   "outputs": [
    {
     "name": "stdout",
     "output_type": "stream",
     "text": [
      "1\n"
     ]
    }
   ],
   "source": [
    "def GetBalcon(table):\n",
    "    try:\n",
    "        balc = re.split('Балкон|Лифт', table)[1]\n",
    "        if re.findall('-|нет', balc)[0] != None:  \n",
    "            bal = 1\n",
    "    except:\n",
    "        bal = 0\n",
    "    return int(bal)\n",
    "\n",
    "print(GetBalcon(table))"
   ]
  },
  {
   "cell_type": "markdown",
   "metadata": {},
   "source": [
    "# Всего этажей"
   ]
  },
  {
   "cell_type": "code",
   "execution_count": 452,
   "metadata": {
    "collapsed": false
   },
   "outputs": [
    {
     "name": "stdout",
     "output_type": "stream",
     "text": [
      "22\n"
     ]
    }
   ],
   "source": [
    "def getNFloor(table):\n",
    "    Nfloor = re.split('/|Тип дома', table)[1]\n",
    "    Nfloor = re.findall('\\d{1,}', Nfloor)[0]\n",
    "    return int(Nfloor)\n",
    "\n",
    "print(getNFloor(table))\n"
   ]
  },
  {
   "cell_type": "markdown",
   "metadata": {},
   "source": [
    "# Первичка или вторичка"
   ]
  },
  {
   "cell_type": "code",
   "execution_count": 533,
   "metadata": {
    "collapsed": false
   },
   "outputs": [],
   "source": [
    "#print(table)"
   ]
  },
  {
   "cell_type": "code",
   "execution_count": 461,
   "metadata": {
    "collapsed": false
   },
   "outputs": [
    {
     "name": "stdout",
     "output_type": "stream",
     "text": [
      "0\n"
     ]
    }
   ],
   "source": [
    "def GetNew(table):\n",
    "    try:\n",
    "        new = re.split('Тип дома|Тип продажи', table)[1]\n",
    "        if re.findall('[Вв]торичка', new)[0] != None:  \n",
    "            new = 0\n",
    "        else:\n",
    "            new = 1\n",
    "    except:\n",
    "        new = 0\n",
    "    return int(new)\n",
    "\n",
    "print(GetNew(table))\n"
   ]
  },
  {
   "cell_type": "markdown",
   "metadata": {},
   "source": [
    "# Расстояние от центра\n",
    "\n",
    "Определим функцию, которая вычисляет [ортодромию](https://en.wikipedia.org/wiki/Great-circle_distance) - расстояние между двумя точками на поверхности Земли.\n"
   ]
  },
  {
   "cell_type": "code",
   "execution_count": 463,
   "metadata": {
    "collapsed": false
   },
   "outputs": [
    {
     "name": "stdout",
     "output_type": "stream",
     "text": [
      "4.079333572472215\n"
     ]
    }
   ],
   "source": [
    "from math import radians, cos, sin, asin, sqrt\n",
    "\n",
    "\n",
    "def haversine(lon, lat):\n",
    "    \"\"\"\n",
    "    Calculate the great circle distance between two points \n",
    "    on the earth (specified in decimal degrees)\n",
    "    \"\"\"\n",
    "    lon_cent = 37.61981338262558\n",
    "    lat_cent = 55.75370903771494 \n",
    "  \n",
    "    # convert decimal degrees to radians \n",
    "    lon_cent, lat_cent, lon, lat = map(radians, [lon_cent, lat_cent, lon, lat])\n",
    "\n",
    "    # haversine formula \n",
    "    dlon = lon - lon_cent \n",
    "    dlat = lat - lat_cent \n",
    "    a = sin(dlat/2)**2 + cos(lat_cent) * cos(lat) * sin(dlon/2)**2\n",
    "    c = 2 * asin(sqrt(a)) \n",
    "    r = 6371 # Radius of earth in kilometers. Use 3956 for miles\n",
    "    return c * r\n",
    "\n",
    "lon, lat = getCoords(flat_page)\n",
    "print(haversine(lon, lat))"
   ]
  },
  {
   "cell_type": "markdown",
   "metadata": {},
   "source": [
    "### Создадим таблицу"
   ]
  },
  {
   "cell_type": "markdown",
   "metadata": {},
   "source": [
    "* Rooms – число комнат\n",
    "* Price – цена\n",
    "* Total Space – общая площадь квартиры, кв. м.\n",
    "* Living Space – жилая площадь квартиры, кв. м.\n",
    "* Kitchen Space – площадь кухни, кв. м.\n",
    "* City center distance – расстояние от центра в км. (можно по Пифагору)\n",
    "* Metro distance – расстояние до метро в минутах\n",
    "* Walk – 1 – если пешком от метро, 0 – если на транспорте\n",
    "* Brick – 1 – кирпичный/монолит/жб, 0 – другой\n",
    "* Telephone – 1 – если есть, 0 – нет\n",
    "* Balcon – 1 – есть балкон/лоджия, 0 – нет\n",
    "* Floor – номер этажа, на котором расположена квартира\n",
    "* Floor Number – всего этажей в доме\n",
    "* Market Type – 1 – первичный рынок, 0 - вторичка"
   ]
  },
  {
   "cell_type": "code",
   "execution_count": 464,
   "metadata": {
    "collapsed": false
   },
   "outputs": [
    {
     "name": "stdout",
     "output_type": "stream",
     "text": [
      "Index(['Rooms', 'Price', 'Total Space', 'Living Space', 'Kitchen Space',\n",
      "       'City center distance', 'Metro distance', 'Walk', 'Telephone', 'Balcon',\n",
      "       'Floor', 'Floor Number', 'Market Type'],\n",
      "      dtype='object')\n"
     ]
    },
    {
     "data": {
      "text/plain": [
       "Rooms                         1\n",
       "Price                   4403057\n",
       "Total Space                  22\n",
       "Living Space                 22\n",
       "Kitchen Space                 1\n",
       "City center distance    4.07933\n",
       "Metro distance                6\n",
       "Walk                          1\n",
       "Telephone                     1\n",
       "Balcon                        1\n",
       "Floor                         3\n",
       "Floor Number                 22\n",
       "Market Type                   0\n",
       "dtype: object"
      ]
     },
     "execution_count": 464,
     "metadata": {},
     "output_type": "execute_result"
    }
   ],
   "source": [
    "import pandas as pd\n",
    "CianFlats = pd.DataFrame(columns=['Rooms', 'Price', 'Total Space', 'Living Space', 'Kitchen Space', 'City center distance', 'Metro distance', 'Walk', 'Telephone', 'Balcon', 'Floor', 'Floor Number', 'Market Type'])\n",
    "print(df.columns)\n",
    "\n",
    "\n",
    "#заполним первую строку    \n",
    "flat_url = 'http://www.cian.ru/sale/flat/' + str(links[3]) + '/'\n",
    "flat_page = requests.get(flat_url)\n",
    "flat_page = flat_page.content\n",
    "flat_page = BeautifulSoup(flat_page, 'lxml')\n",
    "\n",
    "table = flat_page.find('table', attrs = {'class':'object_descr_props'})\n",
    "table = html_stripper(table)\n",
    "\n",
    "\n",
    "lon, lat = getCoords(flat_page)\n",
    "dist, walk = MetroDist(flat_page)\n",
    "flatStats = pd.Series()\n",
    "flatStats['Rooms'] = getRoom(flat_page)\n",
    "flatStats['Price'] = getPrice(flat_page)\n",
    "flatStats['Total Space'] = getTotSp(table)\n",
    "flatStats['Living Space'] = getLivSp(table)\n",
    "flatStats['Kitchen Space'] = getKitSp(table)\n",
    "flatStats['City center distance'] = haversine(lon, lat)\n",
    "flatStats['Metro distance'] = dist\n",
    "flatStats['Walk'] = walk\n",
    "flatStats['Telephone'] = GetPhone(table)\n",
    "flatStats['Balcon'] = GetBalcon(table)\n",
    "flatStats['Floor'] = getFloor(table)\n",
    "flatStats['Floor Number'] = getNFloor(table)\n",
    "flatStats['Market Type'] = GetNew(table)\n",
    "\n",
    "flatStats\n"
   ]
  },
  {
   "cell_type": "markdown",
   "metadata": {},
   "source": [
    "### Определим функцию, которая принимает ссылку на квартиру и возвращает строку таблицы"
   ]
  },
  {
   "cell_type": "code",
   "execution_count": 538,
   "metadata": {
    "collapsed": false
   },
   "outputs": [
    {
     "name": "stdout",
     "output_type": "stream",
     "text": [
      "Rooms                          2\n",
      "Price                   37500000\n",
      "Total Space                   64\n",
      "Living Space                  44\n",
      "Kitchen Space                  8\n",
      "City center distance      3.2702\n",
      "Metro distance                 2\n",
      "Walk                           1\n",
      "Telephone                      0\n",
      "Balcon                         0\n",
      "Floor                          3\n",
      "Floor Number                  11\n",
      "Market Type                    0\n",
      "dtype: object\n"
     ]
    }
   ],
   "source": [
    "def getRow(link):\n",
    "    flat_url = 'http://www.cian.ru/sale/flat/' + str(link) + '/'\n",
    "    flat_page = requests.get(flat_url)\n",
    "    flat_page = flat_page.content\n",
    "    flat_page = BeautifulSoup(flat_page, 'lxml')\n",
    "\n",
    "    table = flat_page.find('table', attrs = {'class':'object_descr_props'})\n",
    "    table = html_stripper(table)\n",
    "\n",
    "\n",
    "    lon, lat = getCoords(flat_page)\n",
    "    dist, walk = MetroDist(flat_page)\n",
    "    flatStats = pd.Series()\n",
    "    flatStats['Rooms'] = getRoom(flat_page)\n",
    "    flatStats['Price'] = getPrice(flat_page)\n",
    "    flatStats['Total Space'] = getTotSp(table)\n",
    "    flatStats['Living Space'] = getLivSp(table)\n",
    "    flatStats['Kitchen Space'] = getKitSp(table)\n",
    "    flatStats['City center distance'] = haversine(lon, lat)\n",
    "    flatStats['Metro distance'] = dist\n",
    "    flatStats['Walk'] = walk\n",
    "    flatStats['Telephone'] = GetPhone(table)\n",
    "    flatStats['Balcon'] = GetBalcon(table)\n",
    "    flatStats['Floor'] = getFloor(table)\n",
    "    flatStats['Floor Number'] = getNFloor(table)\n",
    "    flatStats['Market Type'] = GetNew(table)\n",
    "    \n",
    "    return flatStats\n",
    "\n",
    "print(getRow(links[0]))\n",
    "\n",
    "#CianFlats.append(getRow(links[0]), ignore_index=True)\n",
    "#CianFlats.append(getRow(links[1]), ignore_index=True)\n",
    "#CianFlats"
   ]
  },
  {
   "cell_type": "code",
   "execution_count": 536,
   "metadata": {
    "collapsed": false
   },
   "outputs": [],
   "source": [
    "links\n",
    "data = []\n",
    "for i, link in enumerate(links):\n",
    "    row = getRow(link)\n",
    "    data.append(row)\n",
    "#print(data)"
   ]
  },
  {
   "cell_type": "code",
   "execution_count": 499,
   "metadata": {
    "collapsed": false
   },
   "outputs": [
    {
     "data": {
      "text/html": [
       "<div>\n",
       "<table border=\"1\" class=\"dataframe\">\n",
       "  <thead>\n",
       "    <tr style=\"text-align: right;\">\n",
       "      <th></th>\n",
       "      <th>Rooms</th>\n",
       "      <th>Price</th>\n",
       "      <th>Total Space</th>\n",
       "      <th>Living Space</th>\n",
       "      <th>Kitchen Space</th>\n",
       "      <th>City center distance</th>\n",
       "      <th>Metro distance</th>\n",
       "      <th>Walk</th>\n",
       "      <th>Telephone</th>\n",
       "      <th>Balcon</th>\n",
       "      <th>Floor</th>\n",
       "      <th>Floor Number</th>\n",
       "      <th>Market Type</th>\n",
       "    </tr>\n",
       "  </thead>\n",
       "  <tbody>\n",
       "    <tr>\n",
       "      <th>0</th>\n",
       "      <td>2</td>\n",
       "      <td>37500000.0</td>\n",
       "      <td>64.0</td>\n",
       "      <td>44.0</td>\n",
       "      <td>8.0</td>\n",
       "      <td>3.270199</td>\n",
       "      <td>2.0</td>\n",
       "      <td>1.0</td>\n",
       "      <td>0.0</td>\n",
       "      <td>0.0</td>\n",
       "      <td>3.0</td>\n",
       "      <td>11.0</td>\n",
       "      <td>0.0</td>\n",
       "    </tr>\n",
       "    <tr>\n",
       "      <th>1</th>\n",
       "      <td>3</td>\n",
       "      <td>76483680.0</td>\n",
       "      <td>95.0</td>\n",
       "      <td>65.0</td>\n",
       "      <td>2.0</td>\n",
       "      <td>4.611824</td>\n",
       "      <td>10.0</td>\n",
       "      <td>1.0</td>\n",
       "      <td>1.0</td>\n",
       "      <td>0.0</td>\n",
       "      <td>3.0</td>\n",
       "      <td>5.0</td>\n",
       "      <td>0.0</td>\n",
       "    </tr>\n",
       "    <tr>\n",
       "      <th>2</th>\n",
       "      <td>3</td>\n",
       "      <td>23000000.0</td>\n",
       "      <td>62.0</td>\n",
       "      <td>41.0</td>\n",
       "      <td>7.0</td>\n",
       "      <td>1.349326</td>\n",
       "      <td>6.0</td>\n",
       "      <td>1.0</td>\n",
       "      <td>1.0</td>\n",
       "      <td>0.0</td>\n",
       "      <td>2.0</td>\n",
       "      <td>3.0</td>\n",
       "      <td>0.0</td>\n",
       "    </tr>\n",
       "    <tr>\n",
       "      <th>3</th>\n",
       "      <td>1</td>\n",
       "      <td>4403057.0</td>\n",
       "      <td>22.0</td>\n",
       "      <td>22.0</td>\n",
       "      <td>1.0</td>\n",
       "      <td>4.079334</td>\n",
       "      <td>6.0</td>\n",
       "      <td>1.0</td>\n",
       "      <td>1.0</td>\n",
       "      <td>1.0</td>\n",
       "      <td>3.0</td>\n",
       "      <td>22.0</td>\n",
       "      <td>0.0</td>\n",
       "    </tr>\n",
       "    <tr>\n",
       "      <th>4</th>\n",
       "      <td>1</td>\n",
       "      <td>4585315.0</td>\n",
       "      <td>17.0</td>\n",
       "      <td>17.0</td>\n",
       "      <td>1.0</td>\n",
       "      <td>4.079334</td>\n",
       "      <td>6.0</td>\n",
       "      <td>1.0</td>\n",
       "      <td>1.0</td>\n",
       "      <td>1.0</td>\n",
       "      <td>2.0</td>\n",
       "      <td>17.0</td>\n",
       "      <td>0.0</td>\n",
       "    </tr>\n",
       "  </tbody>\n",
       "</table>\n",
       "</div>"
      ],
      "text/plain": [
       "  Rooms       Price  Total Space  Living Space  Kitchen Space  \\\n",
       "0     2  37500000.0         64.0          44.0            8.0   \n",
       "1     3  76483680.0         95.0          65.0            2.0   \n",
       "2     3  23000000.0         62.0          41.0            7.0   \n",
       "3     1   4403057.0         22.0          22.0            1.0   \n",
       "4     1   4585315.0         17.0          17.0            1.0   \n",
       "\n",
       "   City center distance  Metro distance  Walk  Telephone  Balcon  Floor  \\\n",
       "0              3.270199             2.0   1.0        0.0     0.0    3.0   \n",
       "1              4.611824            10.0   1.0        1.0     0.0    3.0   \n",
       "2              1.349326             6.0   1.0        1.0     0.0    2.0   \n",
       "3              4.079334             6.0   1.0        1.0     1.0    3.0   \n",
       "4              4.079334             6.0   1.0        1.0     1.0    2.0   \n",
       "\n",
       "   Floor Number  Market Type  \n",
       "0          11.0          0.0  \n",
       "1           5.0          0.0  \n",
       "2           3.0          0.0  \n",
       "3          22.0          0.0  \n",
       "4          17.0          0.0  "
      ]
     },
     "execution_count": 499,
     "metadata": {},
     "output_type": "execute_result"
    }
   ],
   "source": [
    "CianFlats = CianFlats.append(data, ignore_index=True)\n",
    "CianFlats.head()"
   ]
  },
  {
   "cell_type": "markdown",
   "metadata": {},
   "source": [
    "### Сделаем таблицы для всех округов и соединим в одну"
   ]
  },
  {
   "cell_type": "code",
   "execution_count": 511,
   "metadata": {
    "collapsed": true
   },
   "outputs": [],
   "source": [
    "#Ссылки по округам\n",
    "\n",
    "SAO = 'http://www.cian.ru/cat.php?deal_type=sale&district%5B0%5D=23&district%5B10%5D=33&district%5B11%5D=34&district%5B12%5D=35&district%5B13%5D=36&district%5B14%5D=37&district%5B15%5D=38&district%5B1%5D=24&district%5B2%5D=25&district%5B3%5D=26&district%5B4%5D=27&district%5B5%5D=28&district%5B6%5D=29&district%5B7%5D=30&district%5B8%5D=31&district%5B9%5D=32&engine_version=2&offer_type=flat&room1=1&room2=1&room3=1&room4=1&room5=1&room6=1'\n",
    "SVAO = 'http://www.cian.ru/cat.php?deal_type=sale&district%5B0%5D=39&district%5B10%5D=49&district%5B11%5D=50&district%5B12%5D=51&district%5B13%5D=52&district%5B14%5D=53&district%5B15%5D=54&district%5B16%5D=55&district%5B1%5D=40&district%5B2%5D=41&district%5B3%5D=42&district%5B4%5D=43&district%5B5%5D=44&district%5B6%5D=45&district%5B7%5D=46&district%5B8%5D=47&district%5B9%5D=48&engine_version=2&offer_type=flat&room1=1&room2=1&room3=1&room4=1&room5=1&room6=1'\n",
    "VAO = 'http://www.cian.ru/cat.php?deal_type=sale&district%5B0%5D=56&district%5B10%5D=66&district%5B11%5D=67&district%5B12%5D=68&district%5B13%5D=69&district%5B14%5D=70&district%5B15%5D=71&district%5B1%5D=57&district%5B2%5D=58&district%5B3%5D=59&district%5B4%5D=60&district%5B5%5D=61&district%5B6%5D=62&district%5B7%5D=63&district%5B8%5D=64&district%5B9%5D=65&engine_version=2&offer_type=flat&room1=1&room2=1&room3=1&room4=1&room5=1&room6=1'\n",
    "UVAO = 'http://www.cian.ru/cat.php?deal_type=sale&district%5B0%5D=72&district%5B10%5D=82&district%5B11%5D=83&district%5B1%5D=73&district%5B2%5D=74&district%5B3%5D=75&district%5B4%5D=76&district%5B5%5D=77&district%5B6%5D=78&district%5B7%5D=79&district%5B8%5D=80&district%5B9%5D=81&engine_version=2&offer_type=flat&room1=1&room2=1&room3=1&room4=1&room5=1&room6=1'\n",
    "UAO = 'http://www.cian.ru/cat.php?deal_type=sale&district%5B0%5D=84&district%5B10%5D=94&district%5B11%5D=95&district%5B12%5D=96&district%5B13%5D=97&district%5B14%5D=98&district%5B15%5D=99&district%5B1%5D=85&district%5B2%5D=86&district%5B3%5D=87&district%5B4%5D=88&district%5B5%5D=89&district%5B6%5D=90&district%5B7%5D=91&district%5B8%5D=92&district%5B9%5D=93&engine_version=2&offer_type=flat&room1=1&room2=1&room3=1&room4=1&room5=1&room6=1'\n",
    "UZAO = 'http://www.cian.ru/cat.php?deal_type=sale&district%5B0%5D=100&district%5B10%5D=110&district%5B11%5D=111&district%5B1%5D=101&district%5B2%5D=102&district%5B3%5D=103&district%5B4%5D=104&district%5B5%5D=105&district%5B6%5D=106&district%5B7%5D=107&district%5B8%5D=108&district%5B9%5D=109&engine_version=2&offer_type=flat&room1=1&room2=1&room3=1&room4=1&room5=1&room6=1'\n",
    "ZAO = 'http://www.cian.ru/cat.php?deal_type=sale&district%5B0%5D=112&district%5B10%5D=122&district%5B11%5D=123&district%5B12%5D=124&district%5B13%5D=348&district%5B14%5D=349&district%5B15%5D=350&district%5B1%5D=113&district%5B2%5D=114&district%5B3%5D=115&district%5B4%5D=116&district%5B5%5D=117&district%5B6%5D=118&district%5B7%5D=119&district%5B8%5D=120&district%5B9%5D=121&engine_version=2&offer_type=flat&room1=1&room2=1&room3=1&room4=1&room5=1&room6=1'\n",
    "SZAO = 'http://www.cian.ru/cat.php?deal_type=sale&district%5B0%5D=125&district%5B1%5D=126&district%5B2%5D=127&district%5B3%5D=128&district%5B4%5D=129&district%5B5%5D=130&district%5B6%5D=131&district%5B7%5D=132&engine_version=2&offer_type=flat&room1=1&room2=1&room3=1&room4=1&room5=1&room6=1'\n",
    "Zelik = 'http://www.cian.ru/cat.php?deal_type=sale&district%5B0%5D=152&district%5B1%5D=153&district%5B2%5D=154&district%5B3%5D=355&district%5B4%5D=356&district%5B5%5D=357&district%5B6%5D=358&engine_version=2&offer_type=flat&room1=1&room2=1&room3=1&room4=1&room5=1&room6=1'\n",
    "NewMos = 'http://www.cian.ru/cat.php?deal_type=sale&district%5B0%5D=327&district%5B10%5D=337&district%5B1%5D=328&district%5B2%5D=329&district%5B3%5D=330&district%5B4%5D=331&district%5B5%5D=332&district%5B6%5D=333&district%5B7%5D=334&district%5B8%5D=335&district%5B9%5D=336&engine_version=2&offer_type=flat&room1=1&room2=1&room3=1&room4=1&room5=1&room6=1'\n",
    "TAO = 'http://www.cian.ru/cat.php?deal_type=sale&district%5B0%5D=338&district%5B1%5D=339&district%5B2%5D=340&district%5B3%5D=341&district%5B4%5D=342&district%5B5%5D=343&district%5B6%5D=344&district%5B7%5D=345&district%5B8%5D=346&district%5B9%5D=347&engine_version=2&offer_type=flat&room1=1&room2=1&room3=1&room4=1&room5=1&room6=1'\n",
    "CAO = 'http://www.cian.ru/cat.php?deal_type=sale&district%5B0%5D=13&district%5B1%5D=14&district%5B2%5D=15&district%5B3%5D=16&district%5B4%5D=17&district%5B5%5D=18&district%5B6%5D=19&district%5B7%5D=20&district%5B8%5D=21&district%5B9%5D=22&engine_version=2&offer_type=flat&p={}&room1=1&room2=1&room3=1&room4=1&room5=1&room6=1'"
   ]
  },
  {
   "cell_type": "markdown",
   "metadata": {},
   "source": [
    "### Объявим функцию, которая возвращает массив ссылок на квартиры для каждого округа"
   ]
  },
  {
   "cell_type": "code",
   "execution_count": 512,
   "metadata": {
    "collapsed": false
   },
   "outputs": [],
   "source": [
    "def getLinks(district):\n",
    "    page = 1\n",
    "    page_url =  district.format(page)\n",
    "\n",
    "    search_page = requests.get(page_url)\n",
    "    search_page = search_page.content\n",
    "    search_page = BeautifulSoup(search_page, 'lxml')\n",
    "\n",
    "\n",
    "    #число квартир в округе\n",
    "\n",
    "    flat_num = str(search_page.find('div', attrs={'class':'serp-above__count'}).contents[1])\n",
    "    flat_num = int(re.findall('\\d{1,}', flat_num)[0])\n",
    "    flat_num\n",
    "    links = []\n",
    "    #page_num = int(flat_num/31)\n",
    "    for page in range(1, 30):\n",
    "        page_url =  district.format(page)\n",
    "\n",
    "        search_page = requests.get(page_url)\n",
    "        search_page = search_page.content\n",
    "        search_page = BeautifulSoup(search_page, 'lxml')\n",
    "\n",
    "        flat_urls = search_page.findAll('div', attrs = {'ng-class':\"{'serp-item_removed': offer.remove.state, 'serp-item_popup-opened': isPopupOpen}\"})\n",
    "        flat_urls = re.split('http://www.cian.ru/sale/flat/|/\" ng-class=\"', str(flat_urls))\n",
    "\n",
    "        for link in flat_urls:\n",
    "            if link.isdigit():\n",
    "                links.append(link)\n",
    "    return links\n",
    "links_SAO = getLinks(SAO)\n",
    "links_SVAO = getLinks(SVAO)\n",
    "links_VAO = getLinks(VAO)\n",
    "links_UVAO = getLinks(UVAO)\n",
    "links_UAO = getLinks(UAO)\n",
    "links_UZAO = getLinks(UZAO)\n",
    "links_ZAO = getLinks(ZAO)\n",
    "links_SZAO = getLinks(SZAO)\n",
    "links_Zelik = getLinks(Zelik)\n",
    "links_NewMos = getLinks(NewMos)\n",
    "links_TAO = getLinks(TAO)\n",
    "links_CAO = getLinks(CAO)\n",
    "\n",
    "\n"
   ]
  },
  {
   "cell_type": "code",
   "execution_count": 514,
   "metadata": {
    "collapsed": false
   },
   "outputs": [
    {
     "data": {
      "text/plain": [
       "812"
      ]
     },
     "execution_count": 514,
     "metadata": {},
     "output_type": "execute_result"
    }
   ],
   "source": [
    "len(links_TAO)"
   ]
  },
  {
   "cell_type": "markdown",
   "metadata": {},
   "source": [
    "По 812 квартир в каждом округе"
   ]
  },
  {
   "cell_type": "markdown",
   "metadata": {},
   "source": [
    "### Определим функцию, принимающую массив ссылок на квартиры определенного округа и возвращающую матрицу с данными"
   ]
  },
  {
   "cell_type": "code",
   "execution_count": 515,
   "metadata": {
    "collapsed": false
   },
   "outputs": [
    {
     "data": {
      "text/plain": [
       "5684"
      ]
     },
     "execution_count": 515,
     "metadata": {},
     "output_type": "execute_result"
    }
   ],
   "source": [
    "links_all = [links_CAO,links_SAO,links_SVAO,links_VAO,links_UVAO,links_UAO,links_UZAO,links_ZAO,links_SZAO,links_Zelik,links_NewMos,links_TAO]\n",
    "\n",
    "\n",
    "#Определим функцию, принимающую массив ссылок на квартиры определенного округа и возвращающую матрицу с данными\n",
    "\n",
    "def GetFinalTable(link):\n",
    "    Flats = pd.DataFrame(columns=['Rooms', 'Price', 'Total Space', 'Living Space', 'Kitchen Space', 'City center distance', 'Metro distance', 'Walk', 'Telephone', 'Balcon', 'Floor', 'Floor Number', 'Market Type'])\n",
    "    data = []\n",
    "    for link in links:\n",
    "        row = getRow(link)\n",
    "        data.append(row)\n",
    "    Flats = Flats.append(data, ignore_index=True)\n",
    "    return Flats\n",
    "\n",
    "#print(GetFinalTable(links_all[0]))\n",
    "df = GetFinalTable(links_all[0])\n",
    "CianFlats = CianFlats.append(df, ignore_index=True)\n",
    "len(CianFlats)\n",
    "\n",
    "\n"
   ]
  },
  {
   "cell_type": "markdown",
   "metadata": {},
   "source": [
    "### Объявим датафрейм, в который соберем данные о квартирах со всех округов"
   ]
  },
  {
   "cell_type": "code",
   "execution_count": 517,
   "metadata": {
    "collapsed": false
   },
   "outputs": [
    {
     "data": {
      "text/plain": [
       "9744"
      ]
     },
     "execution_count": 517,
     "metadata": {},
     "output_type": "execute_result"
    }
   ],
   "source": [
    "#СОбъявим датафрейм, в который соберем данные о квартирах со всех округов\n",
    "\n",
    "CianFlats_All = pd.DataFrame(columns=['Rooms', 'Price', 'Total Space', 'Living Space', 'Kitchen Space', 'City center distance', 'Metro distance', 'Walk', 'Telephone', 'Balcon', 'Floor', 'Floor Number', 'Market Type'])\n",
    "\n",
    "for link in links_all:\n",
    "    df = GetFinalTable(link)\n",
    "    CianFlats_All = CianFlats_All.append(df, ignore_index=True)\n",
    "    \n",
    "len(CianFlats_All)"
   ]
  },
  {
   "cell_type": "code",
   "execution_count": 530,
   "metadata": {
    "collapsed": false
   },
   "outputs": [],
   "source": [
    "#CianFlats_All.to_csv('CianFlats_All.csv')"
   ]
  },
  {
   "cell_type": "code",
   "execution_count": 532,
   "metadata": {
    "collapsed": false,
    "scrolled": true
   },
   "outputs": [
    {
     "data": {
      "text/html": [
       "<div>\n",
       "<table border=\"1\" class=\"dataframe\">\n",
       "  <thead>\n",
       "    <tr style=\"text-align: right;\">\n",
       "      <th></th>\n",
       "      <th>Rooms</th>\n",
       "      <th>Price</th>\n",
       "      <th>Total Space</th>\n",
       "      <th>Living Space</th>\n",
       "      <th>Kitchen Space</th>\n",
       "      <th>City center distance</th>\n",
       "      <th>Metro distance</th>\n",
       "      <th>Walk</th>\n",
       "      <th>Telephone</th>\n",
       "      <th>Balcon</th>\n",
       "      <th>Floor</th>\n",
       "      <th>Floor Number</th>\n",
       "      <th>Market Type</th>\n",
       "    </tr>\n",
       "  </thead>\n",
       "  <tbody>\n",
       "    <tr>\n",
       "      <th>0</th>\n",
       "      <td>2</td>\n",
       "      <td>37500000.0</td>\n",
       "      <td>64.0</td>\n",
       "      <td>44.0</td>\n",
       "      <td>8.0</td>\n",
       "      <td>3.270199</td>\n",
       "      <td>2.0</td>\n",
       "      <td>1.0</td>\n",
       "      <td>0.0</td>\n",
       "      <td>0.0</td>\n",
       "      <td>3.0</td>\n",
       "      <td>11.0</td>\n",
       "      <td>0.0</td>\n",
       "    </tr>\n",
       "    <tr>\n",
       "      <th>1</th>\n",
       "      <td>3</td>\n",
       "      <td>76483680.0</td>\n",
       "      <td>95.0</td>\n",
       "      <td>65.0</td>\n",
       "      <td>2.0</td>\n",
       "      <td>4.611824</td>\n",
       "      <td>10.0</td>\n",
       "      <td>1.0</td>\n",
       "      <td>1.0</td>\n",
       "      <td>0.0</td>\n",
       "      <td>3.0</td>\n",
       "      <td>5.0</td>\n",
       "      <td>0.0</td>\n",
       "    </tr>\n",
       "    <tr>\n",
       "      <th>2</th>\n",
       "      <td>3</td>\n",
       "      <td>23000000.0</td>\n",
       "      <td>62.0</td>\n",
       "      <td>41.0</td>\n",
       "      <td>7.0</td>\n",
       "      <td>1.349326</td>\n",
       "      <td>6.0</td>\n",
       "      <td>1.0</td>\n",
       "      <td>1.0</td>\n",
       "      <td>0.0</td>\n",
       "      <td>2.0</td>\n",
       "      <td>3.0</td>\n",
       "      <td>0.0</td>\n",
       "    </tr>\n",
       "    <tr>\n",
       "      <th>3</th>\n",
       "      <td>1</td>\n",
       "      <td>4403057.0</td>\n",
       "      <td>22.0</td>\n",
       "      <td>22.0</td>\n",
       "      <td>1.0</td>\n",
       "      <td>4.079334</td>\n",
       "      <td>6.0</td>\n",
       "      <td>1.0</td>\n",
       "      <td>1.0</td>\n",
       "      <td>1.0</td>\n",
       "      <td>3.0</td>\n",
       "      <td>22.0</td>\n",
       "      <td>0.0</td>\n",
       "    </tr>\n",
       "    <tr>\n",
       "      <th>4</th>\n",
       "      <td>1</td>\n",
       "      <td>4585315.0</td>\n",
       "      <td>17.0</td>\n",
       "      <td>17.0</td>\n",
       "      <td>1.0</td>\n",
       "      <td>4.079334</td>\n",
       "      <td>6.0</td>\n",
       "      <td>1.0</td>\n",
       "      <td>1.0</td>\n",
       "      <td>1.0</td>\n",
       "      <td>2.0</td>\n",
       "      <td>17.0</td>\n",
       "      <td>0.0</td>\n",
       "    </tr>\n",
       "    <tr>\n",
       "      <th>5</th>\n",
       "      <td>1</td>\n",
       "      <td>4814581.0</td>\n",
       "      <td>17.0</td>\n",
       "      <td>10.0</td>\n",
       "      <td>1.0</td>\n",
       "      <td>4.079334</td>\n",
       "      <td>6.0</td>\n",
       "      <td>1.0</td>\n",
       "      <td>1.0</td>\n",
       "      <td>0.0</td>\n",
       "      <td>2.0</td>\n",
       "      <td>5.0</td>\n",
       "      <td>0.0</td>\n",
       "    </tr>\n",
       "    <tr>\n",
       "      <th>6</th>\n",
       "      <td>1</td>\n",
       "      <td>4814581.0</td>\n",
       "      <td>17.0</td>\n",
       "      <td>17.0</td>\n",
       "      <td>1.0</td>\n",
       "      <td>4.126903</td>\n",
       "      <td>5.0</td>\n",
       "      <td>1.0</td>\n",
       "      <td>0.0</td>\n",
       "      <td>1.0</td>\n",
       "      <td>2.0</td>\n",
       "      <td>6.0</td>\n",
       "      <td>0.0</td>\n",
       "    </tr>\n",
       "    <tr>\n",
       "      <th>7</th>\n",
       "      <td>5</td>\n",
       "      <td>332704008.0</td>\n",
       "      <td>261.0</td>\n",
       "      <td>160.0</td>\n",
       "      <td>3.0</td>\n",
       "      <td>1.288559</td>\n",
       "      <td>5.0</td>\n",
       "      <td>1.0</td>\n",
       "      <td>0.0</td>\n",
       "      <td>0.0</td>\n",
       "      <td>3.0</td>\n",
       "      <td>7.0</td>\n",
       "      <td>0.0</td>\n",
       "    </tr>\n",
       "    <tr>\n",
       "      <th>8</th>\n",
       "      <td>1</td>\n",
       "      <td>5377566.0</td>\n",
       "      <td>18.0</td>\n",
       "      <td>10.0</td>\n",
       "      <td>1.0</td>\n",
       "      <td>4.079334</td>\n",
       "      <td>6.0</td>\n",
       "      <td>1.0</td>\n",
       "      <td>1.0</td>\n",
       "      <td>0.0</td>\n",
       "      <td>5.0</td>\n",
       "      <td>5.0</td>\n",
       "      <td>0.0</td>\n",
       "    </tr>\n",
       "    <tr>\n",
       "      <th>9</th>\n",
       "      <td>1</td>\n",
       "      <td>5377566.0</td>\n",
       "      <td>18.0</td>\n",
       "      <td>18.0</td>\n",
       "      <td>1.0</td>\n",
       "      <td>4.079334</td>\n",
       "      <td>6.0</td>\n",
       "      <td>1.0</td>\n",
       "      <td>1.0</td>\n",
       "      <td>1.0</td>\n",
       "      <td>5.0</td>\n",
       "      <td>18.0</td>\n",
       "      <td>0.0</td>\n",
       "    </tr>\n",
       "  </tbody>\n",
       "</table>\n",
       "</div>"
      ],
      "text/plain": [
       "  Rooms        Price  Total Space  Living Space  Kitchen Space  \\\n",
       "0     2   37500000.0         64.0          44.0            8.0   \n",
       "1     3   76483680.0         95.0          65.0            2.0   \n",
       "2     3   23000000.0         62.0          41.0            7.0   \n",
       "3     1    4403057.0         22.0          22.0            1.0   \n",
       "4     1    4585315.0         17.0          17.0            1.0   \n",
       "5     1    4814581.0         17.0          10.0            1.0   \n",
       "6     1    4814581.0         17.0          17.0            1.0   \n",
       "7     5  332704008.0        261.0         160.0            3.0   \n",
       "8     1    5377566.0         18.0          10.0            1.0   \n",
       "9     1    5377566.0         18.0          18.0            1.0   \n",
       "\n",
       "   City center distance  Metro distance  Walk  Telephone  Balcon  Floor  \\\n",
       "0              3.270199             2.0   1.0        0.0     0.0    3.0   \n",
       "1              4.611824            10.0   1.0        1.0     0.0    3.0   \n",
       "2              1.349326             6.0   1.0        1.0     0.0    2.0   \n",
       "3              4.079334             6.0   1.0        1.0     1.0    3.0   \n",
       "4              4.079334             6.0   1.0        1.0     1.0    2.0   \n",
       "5              4.079334             6.0   1.0        1.0     0.0    2.0   \n",
       "6              4.126903             5.0   1.0        0.0     1.0    2.0   \n",
       "7              1.288559             5.0   1.0        0.0     0.0    3.0   \n",
       "8              4.079334             6.0   1.0        1.0     0.0    5.0   \n",
       "9              4.079334             6.0   1.0        1.0     1.0    5.0   \n",
       "\n",
       "   Floor Number  Market Type  \n",
       "0          11.0          0.0  \n",
       "1           5.0          0.0  \n",
       "2           3.0          0.0  \n",
       "3          22.0          0.0  \n",
       "4          17.0          0.0  \n",
       "5           5.0          0.0  \n",
       "6           6.0          0.0  \n",
       "7           7.0          0.0  \n",
       "8           5.0          0.0  \n",
       "9          18.0          0.0  "
      ]
     },
     "execution_count": 532,
     "metadata": {},
     "output_type": "execute_result"
    }
   ],
   "source": [
    "CianFlats_All.head(10)"
   ]
  },
  {
   "cell_type": "markdown",
   "metadata": {},
   "source": [
    "Итого получилось 9744 квартиры"
   ]
  }
 ],
 "metadata": {
  "anaconda-cloud": {},
  "kernelspec": {
   "display_name": "Python [Root]",
   "language": "python",
   "name": "Python [Root]"
  },
  "language_info": {
   "codemirror_mode": {
    "name": "ipython",
    "version": 3
   },
   "file_extension": ".py",
   "mimetype": "text/x-python",
   "name": "python",
   "nbconvert_exporter": "python",
   "pygments_lexer": "ipython3",
   "version": "3.5.2"
  }
 },
 "nbformat": 4,
 "nbformat_minor": 0
}
